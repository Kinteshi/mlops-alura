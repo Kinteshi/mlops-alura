{
 "cells": [
  {
   "cell_type": "code",
   "execution_count": 2,
   "metadata": {},
   "outputs": [],
   "source": [
    "import requests"
   ]
  },
  {
   "cell_type": "code",
   "execution_count": 10,
   "metadata": {},
   "outputs": [],
   "source": [
    "url='http://127.0.0.1:5000/price/'\n",
    "payload = {\n",
    "    'tamanho': 120,\n",
    "    'ano': 2000,\n",
    "    'garagem': 3\n",
    "}\n",
    "auth = requests.auth.HTTPBasicAuth('admin', 'admin')"
   ]
  },
  {
   "cell_type": "code",
   "execution_count": 11,
   "metadata": {},
   "outputs": [],
   "source": [
    "response = requests.post(\n",
    "    url=url,\n",
    "    json=payload,\n",
    "    auth=auth\n",
    ")"
   ]
  },
  {
   "cell_type": "code",
   "execution_count": 13,
   "metadata": {},
   "outputs": [
    {
     "name": "stdout",
     "output_type": "stream",
     "text": [
      "{'price': 216441.65035638353}\n"
     ]
    }
   ],
   "source": [
    "if response.status_code == 200:\n",
    "    print(response.json())"
   ]
  }
 ],
 "metadata": {
  "interpreter": {
   "hash": "8a2a8bd447a0495e4efef12751774529b3949f32bd8201185b519a4d37997bcb"
  },
  "kernelspec": {
   "display_name": "Python 3.9.11 ('alura')",
   "language": "python",
   "name": "python3"
  },
  "language_info": {
   "codemirror_mode": {
    "name": "ipython",
    "version": 3
   },
   "file_extension": ".py",
   "mimetype": "text/x-python",
   "name": "python",
   "nbconvert_exporter": "python",
   "pygments_lexer": "ipython3",
   "version": "3.9.11"
  },
  "orig_nbformat": 4
 },
 "nbformat": 4,
 "nbformat_minor": 2
}
